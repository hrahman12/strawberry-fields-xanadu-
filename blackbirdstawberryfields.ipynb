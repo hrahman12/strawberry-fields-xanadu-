{
 "cells": [
  {
   "cell_type": "code",
   "execution_count": 8,
   "id": "2a169c4c-ec65-4cca-a80c-dd5ae0eee4a6",
   "metadata": {},
   "outputs": [],
   "source": [
    "import numpy as np"
   ]
  },
  {
   "cell_type": "code",
   "execution_count": 9,
   "id": "cf86b06e-e032-4cc2-a1df-5479a05fa084",
   "metadata": {},
   "outputs": [
    {
     "name": "stdout",
     "output_type": "stream",
     "text": [
      "Requirement already satisfied: strawberryfields in /opt/conda/lib/python3.8/site-packages (0.21.0)\n",
      "Requirement already satisfied: sympy>=1.5 in /opt/conda/lib/python3.8/site-packages (from strawberryfields) (1.9)\n",
      "Requirement already satisfied: scipy>=1.0.0 in /opt/conda/lib/python3.8/site-packages (from strawberryfields) (1.7.3)\n",
      "Requirement already satisfied: toml in /opt/conda/lib/python3.8/site-packages (from strawberryfields) (0.10.2)\n",
      "Requirement already satisfied: networkx>=2.0 in /opt/conda/lib/python3.8/site-packages (from strawberryfields) (2.5.1)\n",
      "Requirement already satisfied: requests>=2.22.0 in /opt/conda/lib/python3.8/site-packages (from strawberryfields) (2.27.1)\n",
      "Requirement already satisfied: appdirs in /opt/conda/lib/python3.8/site-packages (from strawberryfields) (1.4.4)\n",
      "Requirement already satisfied: numpy>=1.17.4 in /opt/conda/lib/python3.8/site-packages (from strawberryfields) (1.22.0)\n",
      "Requirement already satisfied: thewalrus>=0.18.0 in /opt/conda/lib/python3.8/site-packages (from strawberryfields) (0.18.0)\n",
      "Requirement already satisfied: urllib3>=1.25.3 in /opt/conda/lib/python3.8/site-packages (from strawberryfields) (1.26.7)\n",
      "Requirement already satisfied: xanadu-cloud-client>=0.1.1 in /opt/conda/lib/python3.8/site-packages (from strawberryfields) (0.1.1)\n",
      "Requirement already satisfied: quantum-blackbird>=0.3.0 in /opt/conda/lib/python3.8/site-packages (from strawberryfields) (0.4.0)\n",
      "Requirement already satisfied: quantum-xir>=0.1.1 in /opt/conda/lib/python3.8/site-packages (from strawberryfields) (0.1.1)\n",
      "Requirement already satisfied: numba in /opt/conda/lib/python3.8/site-packages (from strawberryfields) (0.53.1)\n",
      "Requirement already satisfied: python-dateutil>=2.8.0 in /opt/conda/lib/python3.8/site-packages (from strawberryfields) (2.8.2)\n",
      "Requirement already satisfied: decorator<5,>=4.3 in /opt/conda/lib/python3.8/site-packages (from networkx>=2.0->strawberryfields) (4.4.2)\n",
      "Requirement already satisfied: six>=1.5 in /opt/conda/lib/python3.8/site-packages (from python-dateutil>=2.8.0->strawberryfields) (1.16.0)\n",
      "Requirement already satisfied: antlr4-python3-runtime==4.8 in /opt/conda/lib/python3.8/site-packages (from quantum-blackbird>=0.3.0->strawberryfields) (4.8)\n",
      "Requirement already satisfied: lark-parser>=0.11.0 in /opt/conda/lib/python3.8/site-packages (from quantum-xir>=0.1.1->strawberryfields) (0.12.0)\n",
      "Requirement already satisfied: charset-normalizer~=2.0.0 in /opt/conda/lib/python3.8/site-packages (from requests>=2.22.0->strawberryfields) (2.0.10)\n",
      "Requirement already satisfied: idna<4,>=2.5 in /opt/conda/lib/python3.8/site-packages (from requests>=2.22.0->strawberryfields) (3.3)\n",
      "Requirement already satisfied: certifi>=2017.4.17 in /opt/conda/lib/python3.8/site-packages (from requests>=2.22.0->strawberryfields) (2021.10.8)\n",
      "Requirement already satisfied: mpmath>=0.19 in /opt/conda/lib/python3.8/site-packages (from sympy>=1.5->strawberryfields) (1.2.1)\n",
      "Requirement already satisfied: dask[delayed] in /opt/conda/lib/python3.8/site-packages (from thewalrus>=0.18.0->strawberryfields) (2021.1.1)\n",
      "Requirement already satisfied: llvmlite<0.37,>=0.36.0rc1 in /opt/conda/lib/python3.8/site-packages (from numba->strawberryfields) (0.36.0)\n",
      "Requirement already satisfied: setuptools in /opt/conda/lib/python3.8/site-packages (from numba->strawberryfields) (60.3.1)\n",
      "Requirement already satisfied: pydantic[dotenv] in /opt/conda/lib/python3.8/site-packages (from xanadu-cloud-client>=0.1.1->strawberryfields) (1.9.0)\n",
      "Requirement already satisfied: fire in /opt/conda/lib/python3.8/site-packages (from xanadu-cloud-client>=0.1.1->strawberryfields) (0.4.0)\n",
      "Requirement already satisfied: pyyaml in /opt/conda/lib/python3.8/site-packages (from dask[delayed]->thewalrus>=0.18.0->strawberryfields) (5.4.1)\n",
      "Requirement already satisfied: toolz>=0.8.2 in /opt/conda/lib/python3.8/site-packages (from dask[delayed]->thewalrus>=0.18.0->strawberryfields) (0.11.1)\n",
      "Requirement already satisfied: cloudpickle>=0.2.2 in /opt/conda/lib/python3.8/site-packages (from dask[delayed]->thewalrus>=0.18.0->strawberryfields) (1.6.0)\n",
      "Requirement already satisfied: termcolor in /opt/conda/lib/python3.8/site-packages (from fire->xanadu-cloud-client>=0.1.1->strawberryfields) (1.1.0)\n",
      "Requirement already satisfied: typing-extensions>=3.7.4.3 in /opt/conda/lib/python3.8/site-packages (from pydantic[dotenv]->xanadu-cloud-client>=0.1.1->strawberryfields) (4.0.1)\n",
      "Requirement already satisfied: python-dotenv>=0.10.4 in /opt/conda/lib/python3.8/site-packages (from pydantic[dotenv]->xanadu-cloud-client>=0.1.1->strawberryfields) (0.19.2)\n",
      "Note: you may need to restart the kernel to use updated packages.\n"
     ]
    }
   ],
   "source": [
    "pip install strawberryfields"
   ]
  },
  {
   "cell_type": "code",
   "execution_count": 10,
   "id": "6ec6f863-426e-4312-8e46-b9001c46ffea",
   "metadata": {},
   "outputs": [],
   "source": [
    "import numpy as np\n",
    "import strawberryfields as sf\n",
    "from strawberryfields.ops import *\n",
    "\n",
    "prog = sf.Program(3)\n",
    "\n",
    "with prog.context as q:\n",
    "    # State preparation in Blackbird\n",
    "    Fock(1) | q[0]\n",
    "    Coherent(0.5, 2) | q[1]"
   ]
  },
  {
   "cell_type": "code",
   "execution_count": 11,
   "id": "5236908f-3e46-47d5-91f4-e9f1c994a978",
   "metadata": {},
   "outputs": [],
   "source": [
    "with prog.context as q:\n",
    "    S = Squeezed(1)\n",
    "    S | q[0]\n",
    "    S | q[1]"
   ]
  },
  {
   "cell_type": "code",
   "execution_count": 12,
   "id": "6945abd2-54c4-4f3a-b43f-fcd14218094b",
   "metadata": {},
   "outputs": [],
   "source": [
    "with prog.context as q:\n",
    "    # Apply the Displacement gate to qumode 0\n",
    "    alpha = 2.0 + 1j\n",
    "    Dgate(np.abs(alpha), np.angle(alpha)) | q[0]\n",
    "\n",
    "    # Apply the Rotation gate\n",
    "    phi = 3.14 / 2\n",
    "    Rgate(phi) | q[0]\n",
    "\n",
    "    # Apply the Squeezing gate\n",
    "    Sgate(2.0, 0.17) | q[0]\n",
    "\n",
    "    # Apply the Beamsplitter gate to qumodes 0 & 1\n",
    "    BSgate(3.14 / 10, 0.223) | (q[0], q[1])\n",
    "\n",
    "    # Apply the Cubic Phase gate (VGate) to qumode 0\n",
    "    gamma = 0.1\n",
    "    Vgate(gamma) | q[0]"
   ]
  },
  {
   "cell_type": "code",
   "execution_count": 13,
   "id": "4983aa14-71a7-4024-9a2e-2979cd16ebf5",
   "metadata": {},
   "outputs": [],
   "source": [
    "with prog.context as q:\n",
    "      V = Vgate(gamma)\n",
    "      V.H | q[0]"
   ]
  },
  {
   "cell_type": "code",
   "execution_count": 14,
   "id": "c93ab139-037e-4358-8bc5-288d37282703",
   "metadata": {},
   "outputs": [],
   "source": [
    "with prog.context as q:\n",
    "    # Homodyne measurement at angle phi\n",
    "    phi = 0.25 * 3.14\n",
    "    MeasureHomodyne(phi) | q[0]\n",
    "\n",
    "    # Special homodyne measurements\n",
    "    MeasureX | q[0]\n",
    "    MeasureP | q[1]\n",
    "\n",
    "    # Heterodyne measurement\n",
    "    MeasureHeterodyne() | q[0]\n",
    "    MeasureHD           | q[1]  # shorthand\n",
    "\n",
    "    # Number state measurements of various qumodes\n",
    "    MeasureFock() | q[0]\n",
    "    MeasureFock() | (q[1], q[2]) # multiple modes"
   ]
  },
  {
   "cell_type": "code",
   "execution_count": null,
   "id": "58879811-e2a4-45ed-b61f-02d6687dd596",
   "metadata": {},
   "outputs": [],
   "source": []
  }
 ],
 "metadata": {
  "kernelspec": {
   "display_name": "Qiskit v0.34.1 (ipykernel)",
   "language": "python",
   "name": "python3"
  },
  "language_info": {
   "codemirror_mode": {
    "name": "ipython",
    "version": 3
   },
   "file_extension": ".py",
   "mimetype": "text/x-python",
   "name": "python",
   "nbconvert_exporter": "python",
   "pygments_lexer": "ipython3",
   "version": "3.8.10"
  },
  "widgets": {
   "application/vnd.jupyter.widget-state+json": {
    "state": {
     "06efc9ae84a44fdc97222c52127b747b": {
      "model_module": "@jupyter-widgets/controls",
      "model_module_version": "1.5.0",
      "model_name": "ButtonStyleModel",
      "state": {}
     },
     "0903e59118674447ad256151e1ead030": {
      "model_module": "@jupyter-widgets/controls",
      "model_module_version": "1.5.0",
      "model_name": "ButtonModel",
      "state": {
       "button_style": "primary",
       "description": "Clear",
       "layout": "IPY_MODEL_74c31aab4aac4c828239e3c376979d37",
       "style": "IPY_MODEL_06efc9ae84a44fdc97222c52127b747b"
      }
     },
     "2b55bf59637a4decabff074e5c841a27": {
      "model_module": "@jupyter-widgets/base",
      "model_module_version": "1.2.0",
      "model_name": "LayoutModel",
      "state": {
       "width": "70px"
      }
     },
     "3594ef72038f4195a481e3002f1f68b0": {
      "model_module": "@jupyter-widgets/controls",
      "model_module_version": "1.5.0",
      "model_name": "DescriptionStyleModel",
      "state": {
       "description_width": ""
      }
     },
     "4b8dc8bd5b1448eeb7e260de854c082e": {
      "model_module": "@jupyter-widgets/controls",
      "model_module_version": "1.5.0",
      "model_name": "DescriptionStyleModel",
      "state": {
       "description_width": ""
      }
     },
     "51158b5645f449f5992d02cc4a600abe": {
      "model_module": "@jupyter-widgets/base",
      "model_module_version": "1.2.0",
      "model_name": "LayoutModel",
      "state": {
       "grid_template_areas": "\n                                       \". . . . right \"\n                                        ",
       "grid_template_columns": "20% 20% 20% 20% 20%",
       "width": "100%"
      }
     },
     "5fe06d33e9e8447287635624f85c49ef": {
      "model_module": "@jupyter-widgets/base",
      "model_module_version": "1.2.0",
      "model_name": "LayoutModel",
      "state": {
       "margin": "0px 0px 0px 37px",
       "width": "600px"
      }
     },
     "6232ff73cb004f84b83926a12a178b36": {
      "model_module": "@jupyter-widgets/controls",
      "model_module_version": "1.5.0",
      "model_name": "HTMLModel",
      "state": {
       "layout": "IPY_MODEL_2b55bf59637a4decabff074e5c841a27",
       "style": "IPY_MODEL_6b5733f17a0e4ff6a16e8088a4c57226",
       "value": "<h5>Queue</h5>"
      }
     },
     "6a344bc2f24648409b8376fad3ccfeda": {
      "model_module": "@jupyter-widgets/base",
      "model_module_version": "1.2.0",
      "model_name": "LayoutModel",
      "state": {
       "width": "95px"
      }
     },
     "6b5733f17a0e4ff6a16e8088a4c57226": {
      "model_module": "@jupyter-widgets/controls",
      "model_module_version": "1.5.0",
      "model_name": "DescriptionStyleModel",
      "state": {
       "description_width": ""
      }
     },
     "732a23ad7b8748efa5d34a0603abb288": {
      "model_module": "@jupyter-widgets/base",
      "model_module_version": "1.2.0",
      "model_name": "LayoutModel",
      "state": {
       "width": "145px"
      }
     },
     "74084833c24a49ca94d9d58110718ba0": {
      "model_module": "@jupyter-widgets/base",
      "model_module_version": "1.2.0",
      "model_name": "LayoutModel",
      "state": {
       "width": "190px"
      }
     },
     "74c31aab4aac4c828239e3c376979d37": {
      "model_module": "@jupyter-widgets/base",
      "model_module_version": "1.2.0",
      "model_name": "LayoutModel",
      "state": {
       "grid_area": "right",
       "padding": "0px 0px 0px 0px",
       "width": "70px"
      }
     },
     "87dc736bc41d4c58b2d84fc4f10d9487": {
      "model_module": "@jupyter-widgets/controls",
      "model_module_version": "1.5.0",
      "model_name": "DescriptionStyleModel",
      "state": {
       "description_width": ""
      }
     },
     "9145cfabc35f4d378ace59cc5cb5b933": {
      "model_module": "@jupyter-widgets/controls",
      "model_module_version": "1.5.0",
      "model_name": "HTMLModel",
      "state": {
       "layout": "IPY_MODEL_732a23ad7b8748efa5d34a0603abb288",
       "style": "IPY_MODEL_3594ef72038f4195a481e3002f1f68b0",
       "value": "<h5>Backend</h5>"
      }
     },
     "a32b11a55e7b46cfac7c59f9494eab85": {
      "model_module": "@jupyter-widgets/controls",
      "model_module_version": "1.5.0",
      "model_name": "GridBoxModel",
      "state": {
       "children": [
        "IPY_MODEL_0903e59118674447ad256151e1ead030"
       ],
       "layout": "IPY_MODEL_51158b5645f449f5992d02cc4a600abe"
      }
     },
     "a905f9ad06f448ab9df46d2e6b36e902": {
      "model_module": "@jupyter-widgets/controls",
      "model_module_version": "1.5.0",
      "model_name": "HTMLModel",
      "state": {
       "layout": "IPY_MODEL_74084833c24a49ca94d9d58110718ba0",
       "style": "IPY_MODEL_e186c7da23494e2d85bee81074bbf2fc",
       "value": "<h5>Job ID</h5>"
      }
     },
     "b3ecbe2ba3574aab877a287c70172a81": {
      "model_module": "@jupyter-widgets/controls",
      "model_module_version": "1.5.0",
      "model_name": "HBoxModel",
      "state": {
       "children": [
        "IPY_MODEL_a905f9ad06f448ab9df46d2e6b36e902",
        "IPY_MODEL_9145cfabc35f4d378ace59cc5cb5b933",
        "IPY_MODEL_bf07f5d84e5044cdbd3ee504cb014c26",
        "IPY_MODEL_6232ff73cb004f84b83926a12a178b36",
        "IPY_MODEL_fb71250ee8ea4c108e3f8799c8f610ca"
       ],
       "layout": "IPY_MODEL_5fe06d33e9e8447287635624f85c49ef"
      }
     },
     "bf07f5d84e5044cdbd3ee504cb014c26": {
      "model_module": "@jupyter-widgets/controls",
      "model_module_version": "1.5.0",
      "model_name": "HTMLModel",
      "state": {
       "layout": "IPY_MODEL_6a344bc2f24648409b8376fad3ccfeda",
       "style": "IPY_MODEL_4b8dc8bd5b1448eeb7e260de854c082e",
       "value": "<h5>Status</h5>"
      }
     },
     "d6c3e39d3b0749ecb2b23952d138385c": {
      "model_module": "@jupyter-widgets/base",
      "model_module_version": "1.2.0",
      "model_name": "LayoutModel",
      "state": {}
     },
     "d930e0429c474741bfc79fc3f5a17617": {
      "model_module": "@jupyter-widgets/controls",
      "model_module_version": "1.5.0",
      "model_name": "DescriptionStyleModel",
      "state": {
       "description_width": ""
      }
     },
     "e186c7da23494e2d85bee81074bbf2fc": {
      "model_module": "@jupyter-widgets/controls",
      "model_module_version": "1.5.0",
      "model_name": "DescriptionStyleModel",
      "state": {
       "description_width": ""
      }
     },
     "e1e9bdbbeda44b119ebfb47c0ed9443c": {
      "model_module": "@jupyter-widgets/controls",
      "model_module_version": "1.5.0",
      "model_name": "HTMLModel",
      "state": {
       "layout": "IPY_MODEL_e2fa1e50be6d43c497ba01e0cd2aed81",
       "style": "IPY_MODEL_d930e0429c474741bfc79fc3f5a17617",
       "value": "<p style='font-family: IBM Plex Sans, Arial, Helvetica, sans-serif; font-size: 20px; font-weight: medium;'>Circuit Properties</p>"
      }
     },
     "e2fa1e50be6d43c497ba01e0cd2aed81": {
      "model_module": "@jupyter-widgets/base",
      "model_module_version": "1.2.0",
      "model_name": "LayoutModel",
      "state": {
       "margin": "0px 0px 10px 0px"
      }
     },
     "fb71250ee8ea4c108e3f8799c8f610ca": {
      "model_module": "@jupyter-widgets/controls",
      "model_module_version": "1.5.0",
      "model_name": "HTMLModel",
      "state": {
       "layout": "IPY_MODEL_d6c3e39d3b0749ecb2b23952d138385c",
       "style": "IPY_MODEL_87dc736bc41d4c58b2d84fc4f10d9487",
       "value": "<h5>Message</h5>"
      }
     }
    },
    "version_major": 2,
    "version_minor": 0
   }
  }
 },
 "nbformat": 4,
 "nbformat_minor": 5
}
