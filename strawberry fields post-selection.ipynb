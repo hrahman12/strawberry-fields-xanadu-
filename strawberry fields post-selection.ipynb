{
 "cells": [
  {
   "cell_type": "code",
   "execution_count": 2,
   "id": "04536324-2099-4094-89bb-c1a04f078cc9",
   "metadata": {},
   "outputs": [
    {
     "name": "stderr",
     "output_type": "stream",
     "text": [
      "ibmqfactory.load_account:WARNING:2022-01-11 19:41:32,722: Credentials are already in use. The existing account in the session will be replaced.\n"
     ]
    }
   ],
   "source": [
    "import numpy as np"
   ]
  },
  {
   "cell_type": "code",
   "execution_count": 14,
   "id": "f7834f81-a2f1-4b6e-8267-27cdcabf0871",
   "metadata": {},
   "outputs": [],
   "source": [
    "import numpy as np\n",
    "\n",
    "# set the random seed\n",
    "np.random.seed(42)\n",
    "\n",
    "import strawberryfields as sf\n",
    "from strawberryfields.ops import *\n",
    "\n",
    "prog = sf.Program(2)\n",
    "eng = sf.Engine(\"fock\", backend_options={\"cutoff_dim\": 6})\n",
    "\n",
    "with prog.context as q:\n",
    "    Fock(2) | q[0]\n",
    "    Fock(3) | q[1]\n",
    "    BSgate() | (q[0], q[1])\n",
    "    MeasureFock() | q[0]\n",
    "\n",
    "results = eng.run(prog)"
   ]
  },
  {
   "cell_type": "code",
   "execution_count": 15,
   "id": "1d961909-3dc6-4f49-9987-fb15a78175ba",
   "metadata": {},
   "outputs": [
    {
     "name": "stdout",
     "output_type": "stream",
     "text": [
      "1\n"
     ]
    }
   ],
   "source": [
    "print(results.samples[0][0])"
   ]
  },
  {
   "cell_type": "code",
   "execution_count": 16,
   "id": "1a1e9749-4754-4d59-b7ae-3ab7d7ba48ac",
   "metadata": {},
   "outputs": [],
   "source": [
    "prog2 = sf.Program(2)\n",
    "with prog2.context as q:\n",
    "    MeasureFock() | q[1]\n",
    "\n",
    "results = eng.run(prog2)"
   ]
  },
  {
   "cell_type": "code",
   "execution_count": 17,
   "id": "73cb8a85-d6c5-4ca5-8b38-ac54ac7073be",
   "metadata": {},
   "outputs": [
    {
     "name": "stdout",
     "output_type": "stream",
     "text": [
      "4\n"
     ]
    }
   ],
   "source": [
    "print(results.samples[0][0])"
   ]
  },
  {
   "cell_type": "code",
   "execution_count": 18,
   "id": "8b14d4af-1bae-45a2-ad50-14b4791c9eb8",
   "metadata": {},
   "outputs": [],
   "source": [
    "prog = sf.Program(2)\n",
    "eng = sf.Engine(\"fock\", backend_options={\"cutoff_dim\": 6})\n",
    "\n",
    "with prog.context as q:\n",
    "    Fock(2) | q[0]\n",
    "    Fock(3) | q[1]\n",
    "    BSgate() | (q[0], q[1])\n",
    "    MeasureFock(select=0) | q[0]\n",
    "    MeasureFock() | q[1]\n",
    "\n",
    "result = eng.run(prog)"
   ]
  },
  {
   "cell_type": "code",
   "execution_count": 19,
   "id": "575213bd-4dd1-4452-8681-80daba5e6b3c",
   "metadata": {},
   "outputs": [
    {
     "name": "stdout",
     "output_type": "stream",
     "text": [
      "[[0 5]]\n"
     ]
    }
   ],
   "source": [
    "print(result.samples)"
   ]
  },
  {
   "cell_type": "code",
   "execution_count": 20,
   "id": "509319c7-6a6e-473c-bbac-47fae78c737e",
   "metadata": {},
   "outputs": [],
   "source": [
    "prog = sf.Program(2)\n",
    "eng = sf.Engine(\"gaussian\")\n",
    "\n",
    "with prog.context as q:\n",
    "    S2gate(1) | (q[0], q[1])\n",
    "    MeasureHomodyne(0, select=1) | q[0]\n",
    "\n",
    "state = eng.run(prog).state"
   ]
  },
  {
   "cell_type": "code",
   "execution_count": 21,
   "id": "6018a388-67b1-4fec-9eab-de5a8845654b",
   "metadata": {},
   "outputs": [],
   "source": [
    "mu, cov = state.reduced_gaussian([1])"
   ]
  },
  {
   "cell_type": "code",
   "execution_count": 22,
   "id": "9e3ee35e-27ad-4f77-a8dc-63cdc57b7c6c",
   "metadata": {},
   "outputs": [
    {
     "name": "stdout",
     "output_type": "stream",
     "text": [
      "0.9640275698261901\n"
     ]
    }
   ],
   "source": [
    "print(mu[0])"
   ]
  },
  {
   "cell_type": "code",
   "execution_count": 23,
   "id": "e017a276-cc4c-418f-9ac8-ecc86b9b04dd",
   "metadata": {},
   "outputs": [],
   "source": [
    "prog = sf.Program(2)\n",
    "with prog.context as q:\n",
    "    MeasureFock() | q[0]\n",
    "    Dgate(q[0].par ** 2) | q[1]"
   ]
  },
  {
   "cell_type": "code",
   "execution_count": 24,
   "id": "7b86fa74-474b-4477-9b44-ff4d4a26a3da",
   "metadata": {},
   "outputs": [],
   "source": [
    "prog = sf.Program(2)\n",
    "with prog.context as q:\n",
    "    MeasureFock() | q[0]\n",
    "    Dgate(sf.math.cos(q[0].par) + 2) | q[1]"
   ]
  },
  {
   "cell_type": "code",
   "execution_count": null,
   "id": "98987670-1917-40f8-8fce-ac8c8f16256d",
   "metadata": {},
   "outputs": [],
   "source": []
  }
 ],
 "metadata": {
  "kernelspec": {
   "display_name": "Qiskit v0.34.1 (ipykernel)",
   "language": "python",
   "name": "python3"
  },
  "language_info": {
   "codemirror_mode": {
    "name": "ipython",
    "version": 3
   },
   "file_extension": ".py",
   "mimetype": "text/x-python",
   "name": "python",
   "nbconvert_exporter": "python",
   "pygments_lexer": "ipython3",
   "version": "3.8.10"
  },
  "widgets": {
   "application/vnd.jupyter.widget-state+json": {
    "state": {
     "02dc50f940464e82af309e97a28a09b8": {
      "model_module": "@jupyter-widgets/controls",
      "model_module_version": "1.5.0",
      "model_name": "HTMLModel",
      "state": {
       "layout": "IPY_MODEL_ff4dc3ed17a144679228e83d6e582bd0",
       "style": "IPY_MODEL_04f1f5c8f9864801b65fe905246875e0",
       "value": "<h5>Queue</h5>"
      }
     },
     "04f1f5c8f9864801b65fe905246875e0": {
      "model_module": "@jupyter-widgets/controls",
      "model_module_version": "1.5.0",
      "model_name": "DescriptionStyleModel",
      "state": {
       "description_width": ""
      }
     },
     "0e360e719b224a26a6f96cd09e49c9a6": {
      "model_module": "@jupyter-widgets/base",
      "model_module_version": "1.2.0",
      "model_name": "LayoutModel",
      "state": {}
     },
     "0e6a1663a7ff48f69cfe9d3501114f0d": {
      "model_module": "@jupyter-widgets/controls",
      "model_module_version": "1.5.0",
      "model_name": "HTMLModel",
      "state": {
       "layout": "IPY_MODEL_dd4baadd155f4fd1b7b80f1114264d26",
       "style": "IPY_MODEL_c4bc754fd7104f04b517ec0ad5aaf0e1",
       "value": "<h5>Status</h5>"
      }
     },
     "0f5c7150920a44be9b4b4a74cfb041dc": {
      "model_module": "@jupyter-widgets/controls",
      "model_module_version": "1.5.0",
      "model_name": "HBoxModel",
      "state": {
       "children": [
        "IPY_MODEL_64ba1ad425874c43905385348622ce03",
        "IPY_MODEL_3148a890386c422aa7750e6f2c37d524",
        "IPY_MODEL_0e6a1663a7ff48f69cfe9d3501114f0d",
        "IPY_MODEL_02dc50f940464e82af309e97a28a09b8",
        "IPY_MODEL_f0a9a4b95a8941dfa1a7cd5634b01509"
       ],
       "layout": "IPY_MODEL_a8a214fc99cc44258b80dc5d8c964c71"
      }
     },
     "3148a890386c422aa7750e6f2c37d524": {
      "model_module": "@jupyter-widgets/controls",
      "model_module_version": "1.5.0",
      "model_name": "HTMLModel",
      "state": {
       "layout": "IPY_MODEL_886ee87a2b68482ba4f3eb5da0920747",
       "style": "IPY_MODEL_e73ef42c8d6f4f61a2d70d14406abff8",
       "value": "<h5>Backend</h5>"
      }
     },
     "367fe173fc97403eb59198c5e90e717e": {
      "model_module": "@jupyter-widgets/controls",
      "model_module_version": "1.5.0",
      "model_name": "GridBoxModel",
      "state": {
       "children": [
        "IPY_MODEL_85a8748f3a36449cb8e2bf6a50e11961"
       ],
       "layout": "IPY_MODEL_57707dd88aaf46138b0361233a74ed24"
      }
     },
     "4778ac151101460db145b05d7a47ee41": {
      "model_module": "@jupyter-widgets/controls",
      "model_module_version": "1.5.0",
      "model_name": "DescriptionStyleModel",
      "state": {
       "description_width": ""
      }
     },
     "4f44987646914bf1ba7b125c2f3f555f": {
      "model_module": "@jupyter-widgets/base",
      "model_module_version": "1.2.0",
      "model_name": "LayoutModel",
      "state": {
       "width": "190px"
      }
     },
     "57707dd88aaf46138b0361233a74ed24": {
      "model_module": "@jupyter-widgets/base",
      "model_module_version": "1.2.0",
      "model_name": "LayoutModel",
      "state": {
       "grid_template_areas": "\n                                       \". . . . right \"\n                                        ",
       "grid_template_columns": "20% 20% 20% 20% 20%",
       "width": "100%"
      }
     },
     "64ba1ad425874c43905385348622ce03": {
      "model_module": "@jupyter-widgets/controls",
      "model_module_version": "1.5.0",
      "model_name": "HTMLModel",
      "state": {
       "layout": "IPY_MODEL_4f44987646914bf1ba7b125c2f3f555f",
       "style": "IPY_MODEL_4778ac151101460db145b05d7a47ee41",
       "value": "<h5>Job ID</h5>"
      }
     },
     "668cf1f5d3b24112ba2c07d95c5d4a16": {
      "model_module": "@jupyter-widgets/controls",
      "model_module_version": "1.5.0",
      "model_name": "DescriptionStyleModel",
      "state": {
       "description_width": ""
      }
     },
     "7f6fda2db7fe4094bf1d55d4072b2a71": {
      "model_module": "@jupyter-widgets/controls",
      "model_module_version": "1.5.0",
      "model_name": "ButtonStyleModel",
      "state": {}
     },
     "82bf7b99ac654e6c95f52a3124ebabd6": {
      "model_module": "@jupyter-widgets/base",
      "model_module_version": "1.2.0",
      "model_name": "LayoutModel",
      "state": {
       "grid_area": "right",
       "padding": "0px 0px 0px 0px",
       "width": "70px"
      }
     },
     "85a8748f3a36449cb8e2bf6a50e11961": {
      "model_module": "@jupyter-widgets/controls",
      "model_module_version": "1.5.0",
      "model_name": "ButtonModel",
      "state": {
       "button_style": "primary",
       "description": "Clear",
       "layout": "IPY_MODEL_82bf7b99ac654e6c95f52a3124ebabd6",
       "style": "IPY_MODEL_7f6fda2db7fe4094bf1d55d4072b2a71"
      }
     },
     "886ee87a2b68482ba4f3eb5da0920747": {
      "model_module": "@jupyter-widgets/base",
      "model_module_version": "1.2.0",
      "model_name": "LayoutModel",
      "state": {
       "width": "145px"
      }
     },
     "a8a214fc99cc44258b80dc5d8c964c71": {
      "model_module": "@jupyter-widgets/base",
      "model_module_version": "1.2.0",
      "model_name": "LayoutModel",
      "state": {
       "margin": "0px 0px 0px 37px",
       "width": "600px"
      }
     },
     "ae9a914b00ac427ebb55395b78b2836d": {
      "model_module": "@jupyter-widgets/base",
      "model_module_version": "1.2.0",
      "model_name": "LayoutModel",
      "state": {
       "margin": "0px 0px 10px 0px"
      }
     },
     "bb2f3d4e78f540ce87c6519c1fbad431": {
      "model_module": "@jupyter-widgets/controls",
      "model_module_version": "1.5.0",
      "model_name": "DescriptionStyleModel",
      "state": {
       "description_width": ""
      }
     },
     "c4bc754fd7104f04b517ec0ad5aaf0e1": {
      "model_module": "@jupyter-widgets/controls",
      "model_module_version": "1.5.0",
      "model_name": "DescriptionStyleModel",
      "state": {
       "description_width": ""
      }
     },
     "dd4baadd155f4fd1b7b80f1114264d26": {
      "model_module": "@jupyter-widgets/base",
      "model_module_version": "1.2.0",
      "model_name": "LayoutModel",
      "state": {
       "width": "95px"
      }
     },
     "e73ef42c8d6f4f61a2d70d14406abff8": {
      "model_module": "@jupyter-widgets/controls",
      "model_module_version": "1.5.0",
      "model_name": "DescriptionStyleModel",
      "state": {
       "description_width": ""
      }
     },
     "f0a9a4b95a8941dfa1a7cd5634b01509": {
      "model_module": "@jupyter-widgets/controls",
      "model_module_version": "1.5.0",
      "model_name": "HTMLModel",
      "state": {
       "layout": "IPY_MODEL_0e360e719b224a26a6f96cd09e49c9a6",
       "style": "IPY_MODEL_668cf1f5d3b24112ba2c07d95c5d4a16",
       "value": "<h5>Message</h5>"
      }
     },
     "fbc7b52919a143e493887a884de028f1": {
      "model_module": "@jupyter-widgets/controls",
      "model_module_version": "1.5.0",
      "model_name": "HTMLModel",
      "state": {
       "layout": "IPY_MODEL_ae9a914b00ac427ebb55395b78b2836d",
       "style": "IPY_MODEL_bb2f3d4e78f540ce87c6519c1fbad431",
       "value": "<p style='font-family: IBM Plex Sans, Arial, Helvetica, sans-serif; font-size: 20px; font-weight: medium;'>Circuit Properties</p>"
      }
     },
     "ff4dc3ed17a144679228e83d6e582bd0": {
      "model_module": "@jupyter-widgets/base",
      "model_module_version": "1.2.0",
      "model_name": "LayoutModel",
      "state": {
       "width": "70px"
      }
     }
    },
    "version_major": 2,
    "version_minor": 0
   }
  }
 },
 "nbformat": 4,
 "nbformat_minor": 5
}
