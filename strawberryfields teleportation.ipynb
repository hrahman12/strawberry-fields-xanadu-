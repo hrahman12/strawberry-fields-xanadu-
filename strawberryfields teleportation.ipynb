{
 "cells": [
  {
   "cell_type": "code",
   "execution_count": 15,
   "id": "a38476ea-d550-4055-8aea-d9f591804f0f",
   "metadata": {},
   "outputs": [],
   "source": [
    "import numpy as np\n"
   ]
  },
  {
   "cell_type": "code",
   "execution_count": 18,
   "id": "ae9be380-c303-4ac2-8b29-b8e32852efa9",
   "metadata": {},
   "outputs": [],
   "source": [
    "import strawberryfields as sf\n",
    "from strawberryfields.ops import *\n",
    "\n",
    "import numpy as np\n",
    "from numpy import pi, sqrt\n",
    "\n",
    "# set the random seed\n",
    "np.random.seed(42)"
   ]
  },
  {
   "cell_type": "code",
   "execution_count": 19,
   "id": "8485134f-3e03-4512-81e5-c43d8eaf1812",
   "metadata": {},
   "outputs": [],
   "source": [
    "prog = sf.Program(3)"
   ]
  },
  {
   "cell_type": "code",
   "execution_count": 20,
   "id": "fcb9b309-22d2-4029-8cd1-316ce4c0c523",
   "metadata": {},
   "outputs": [],
   "source": [
    "alpha = 1+0.5j\n",
    "r = np.abs(alpha)\n",
    "phi = np.angle(alpha)\n",
    "\n",
    "with prog.context as q:\n",
    "    # prepare initial states\n",
    "    Coherent(r, phi) | q[0]\n",
    "    Squeezed(-2) | q[1]\n",
    "    Squeezed(2) | q[2]\n",
    "\n",
    "    # apply gates\n",
    "    BS = BSgate(pi/4, pi)\n",
    "    BS | (q[1], q[2])\n",
    "    BS | (q[0], q[1])\n",
    "\n",
    "    # Perform homodyne measurements\n",
    "    MeasureX | q[0]\n",
    "    MeasureP | q[1]\n",
    "\n",
    "    # Displacement gates conditioned on\n",
    "    # the measurements\n",
    "    Xgate(sqrt(2) * q[0].par) | q[2]\n",
    "    Zgate(sqrt(2) * q[1].par) | q[2]"
   ]
  },
  {
   "cell_type": "code",
   "execution_count": 21,
   "id": "5f422aee-689e-4b40-8f0d-926009b18208",
   "metadata": {},
   "outputs": [],
   "source": [
    "eng = sf.Engine('fock', backend_options={\"cutoff_dim\": 15})"
   ]
  },
  {
   "cell_type": "code",
   "execution_count": 22,
   "id": "906c38c7-e400-42fc-b213-627023e5da2c",
   "metadata": {},
   "outputs": [],
   "source": [
    "result = eng.run(prog, shots=1, modes=None, compile_options={})"
   ]
  },
  {
   "cell_type": "code",
   "execution_count": 23,
   "id": "c6af5e2e-facb-4c86-8987-199e057be1a3",
   "metadata": {},
   "outputs": [
    {
     "name": "stdout",
     "output_type": "stream",
     "text": [
      "[[0.19890199 0.17330173]]\n"
     ]
    }
   ],
   "source": [
    "print(result.samples)"
   ]
  },
  {
   "cell_type": "code",
   "execution_count": 24,
   "id": "1fdf424d-627c-4b60-bdfe-c60715fe0c0e",
   "metadata": {},
   "outputs": [
    {
     "name": "stdout",
     "output_type": "stream",
     "text": [
      "<FockState: num_modes=3, cutoff=15, pure=False, hbar=2>\n"
     ]
    }
   ],
   "source": [
    "print(result.state)\n",
    "state = result.state"
   ]
  },
  {
   "cell_type": "code",
   "execution_count": 25,
   "id": "9db328fe-dd18-489c-b621-d087fbc38c7a",
   "metadata": {},
   "outputs": [
    {
     "name": "stdout",
     "output_type": "stream",
     "text": [
      "(15, 15, 15, 15, 15, 15)\n"
     ]
    }
   ],
   "source": [
    "print(state.dm().shape)"
   ]
  },
  {
   "cell_type": "code",
   "execution_count": 26,
   "id": "a5e09b92-da4b-460b-a355-c4255f0f28d8",
   "metadata": {},
   "outputs": [
    {
     "name": "stdout",
     "output_type": "stream",
     "text": [
      "(15, 15)\n"
     ]
    }
   ],
   "source": [
    "rho2 = np.einsum('kkllij->ij', state.dm())\n",
    "print(rho2.shape)"
   ]
  },
  {
   "cell_type": "code",
   "execution_count": 27,
   "id": "ee2f7d94-2ce9-473a-a493-4a184f45c3c5",
   "metadata": {},
   "outputs": [
    {
     "name": "stdout",
     "output_type": "stream",
     "text": [
      "[2.31507207e-01 3.38341220e-01 2.47303007e-01 1.19982709e-01\n",
      " 4.47464693e-02 1.27354129e-02 3.60820581e-03 8.80707478e-04\n",
      " 6.61002616e-05 6.14033830e-06 2.97354530e-05 2.88346571e-04\n",
      " 6.97411216e-05 2.31845000e-04 8.98129559e-05]\n"
     ]
    }
   ],
   "source": [
    "probs = np.real_if_close(np.diagonal(rho2))\n",
    "print(probs)"
   ]
  },
  {
   "cell_type": "code",
   "execution_count": 28,
   "id": "e610dead-38ca-4819-98ea-1a8580d09849",
   "metadata": {},
   "outputs": [
    {
     "data": {
      "image/png": "[encoded data removed]",
      "text/plain": [
       "<Figure size 432x288 with 1 Axes>"
      ]
     },
     "metadata": {
      "needs_background": "light"
     },
     "output_type": "display_data"
    }
   ],
   "source": [
    "from matplotlib import pyplot as plt\n",
    "plt.bar(range(7), probs[:7])\n",
    "plt.xlabel('Fock state')\n",
    "plt.ylabel('Marginal probability')\n",
    "plt.title('Mode 2')\n",
    "plt.show()"
   ]
  },
  {
   "cell_type": "code",
   "execution_count": 29,
   "id": "08c39236-85a5-4030-acad-6b8f49a5dd02",
   "metadata": {},
   "outputs": [
    {
     "data": {
      "text/plain": [
       "array([2.31507207e-01, 3.38341220e-01, 2.47303007e-01, 1.19982709e-01,\n",
       "       4.47464693e-02, 1.27354129e-02, 3.60820581e-03, 8.80707478e-04,\n",
       "       6.61002616e-05, 6.14033830e-06, 2.97354530e-05, 2.88346571e-04,\n",
       "       6.97411216e-05, 2.31845000e-04, 8.98129559e-05])"
      ]
     },
     "execution_count": 29,
     "metadata": {},
     "output_type": "execute_result"
    }
   ],
   "source": [
    "fock_probs = state.all_fock_probs()\n",
    "fock_probs.shape\n",
    "np.sum(fock_probs, axis=(0,1))"
   ]
  },
  {
   "cell_type": "code",
   "execution_count": 30,
   "id": "5682a3e7-3ec8-4255-acf0-7e40671dcd23",
   "metadata": {},
   "outputs": [],
   "source": [
    "import strawberryfields as sf\n",
    "from strawberryfields.ops import *\n",
    "\n",
    "import numpy as np\n",
    "from numpy import pi, sqrt\n",
    "\n",
    "prog = sf.Program(3)\n",
    "\n",
    "alpha = 1+0.5j\n",
    "r = np.abs(alpha)\n",
    "phi = np.angle(alpha)\n",
    "\n",
    "with prog.context as q:\n",
    "    # prepare initial states\n",
    "    Coherent(r, phi) | q[0]\n",
    "    Squeezed(-2) | q[1]\n",
    "    Squeezed(2) | q[2]\n",
    "\n",
    "    # apply gates\n",
    "    BS = BSgate(pi/4, pi)\n",
    "    BS | (q[1], q[2])\n",
    "    BS | (q[0], q[1])\n",
    "\n",
    "    # Perform homodyne measurements\n",
    "    MeasureX | q[0]\n",
    "    MeasureP | q[1]\n",
    "\n",
    "    # Displacement gates conditioned on\n",
    "    # the measurements\n",
    "    Xgate(sqrt(2) * q[0].par) | q[2]\n",
    "    Zgate(sqrt(2) * q[1].par) | q[2]\n",
    "\n",
    "eng = sf.Engine('fock', backend_options={'cutoff_dim': 15})\n",
    "result = eng.run(prog, shots=1, modes=None, compile_options={})"
   ]
  },
  {
   "cell_type": "code",
   "execution_count": null,
   "id": "d165e5bd-9545-46c9-8a52-bdc002294770",
   "metadata": {},
   "outputs": [],
   "source": []
  }
 ],
 "metadata": {
  "kernelspec": {
   "display_name": "Qiskit v0.34.1 (ipykernel)",
   "language": "python",
   "name": "python3"
  },
  "language_info": {
   "codemirror_mode": {
    "name": "ipython",
    "version": 3
   },
   "file_extension": ".py",
   "mimetype": "text/x-python",
   "name": "python",
   "nbconvert_exporter": "python",
   "pygments_lexer": "ipython3",
   "version": "3.8.10"
  },
  "widgets": {
   "application/vnd.jupyter.widget-state+json": {
    "state": {
     "0ceac3632ecc4d34a72e1aefcf762679": {
      "model_module": "@jupyter-widgets/controls",
      "model_module_version": "1.5.0",
      "model_name": "GridBoxModel",
      "state": {
       "children": [
        "IPY_MODEL_c4ac3d945da248b4983b99b18bfa5a6b"
       ],
       "layout": "IPY_MODEL_5711da4ea6104f089dc2d244540f657e"
      }
     },
     "1a4baa832f2745dcb94626dcd63b6d8e": {
      "model_module": "@jupyter-widgets/controls",
      "model_module_version": "1.5.0",
      "model_name": "DescriptionStyleModel",
      "state": {
       "description_width": ""
      }
     },
     "1d3f414616dc47de968c0358d1f55b10": {
      "model_module": "@jupyter-widgets/base",
      "model_module_version": "1.2.0",
      "model_name": "LayoutModel",
      "state": {
       "width": "70px"
      }
     },
     "2edb76f59c1d420bad3c2b269a91e531": {
      "model_module": "@jupyter-widgets/controls",
      "model_module_version": "1.5.0",
      "model_name": "HTMLModel",
      "state": {
       "layout": "IPY_MODEL_c5d675f33847480ba7ec8c6f0ac6859e",
       "style": "IPY_MODEL_493c320064c849c4b18a2fdbfa50802a",
       "value": "<h5>Status</h5>"
      }
     },
     "3605be9fb4ce430d93de537626b4ff44": {
      "model_module": "@jupyter-widgets/controls",
      "model_module_version": "1.5.0",
      "model_name": "HTMLModel",
      "state": {
       "layout": "IPY_MODEL_8797c594d3cf417eb7fb1753412fdb25",
       "style": "IPY_MODEL_a7b9e41453ba44e694100aa0c0d43bb0",
       "value": "<h5>Job ID</h5>"
      }
     },
     "493c320064c849c4b18a2fdbfa50802a": {
      "model_module": "@jupyter-widgets/controls",
      "model_module_version": "1.5.0",
      "model_name": "DescriptionStyleModel",
      "state": {
       "description_width": ""
      }
     },
     "5711da4ea6104f089dc2d244540f657e": {
      "model_module": "@jupyter-widgets/base",
      "model_module_version": "1.2.0",
      "model_name": "LayoutModel",
      "state": {
       "grid_template_areas": "\n                                       \". . . . right \"\n                                        ",
       "grid_template_columns": "20% 20% 20% 20% 20%",
       "width": "100%"
      }
     },
     "6255793d374e4d9990f7700c76625b91": {
      "model_module": "@jupyter-widgets/controls",
      "model_module_version": "1.5.0",
      "model_name": "DescriptionStyleModel",
      "state": {
       "description_width": ""
      }
     },
     "6ac102d7b3f044e79583b594f575481a": {
      "model_module": "@jupyter-widgets/controls",
      "model_module_version": "1.5.0",
      "model_name": "HTMLModel",
      "state": {
       "layout": "IPY_MODEL_8d48a17ea1614c639700b0d18f20a8e1",
       "style": "IPY_MODEL_6255793d374e4d9990f7700c76625b91",
       "value": "<p style='font-family: IBM Plex Sans, Arial, Helvetica, sans-serif; font-size: 20px; font-weight: medium;'>Circuit Properties</p>"
      }
     },
     "791d7ea6c8994dac92f8168393386ddd": {
      "model_module": "@jupyter-widgets/base",
      "model_module_version": "1.2.0",
      "model_name": "LayoutModel",
      "state": {
       "width": "145px"
      }
     },
     "8797c594d3cf417eb7fb1753412fdb25": {
      "model_module": "@jupyter-widgets/base",
      "model_module_version": "1.2.0",
      "model_name": "LayoutModel",
      "state": {
       "width": "190px"
      }
     },
     "8d48a17ea1614c639700b0d18f20a8e1": {
      "model_module": "@jupyter-widgets/base",
      "model_module_version": "1.2.0",
      "model_name": "LayoutModel",
      "state": {
       "margin": "0px 0px 10px 0px"
      }
     },
     "9045860c258b4e6d893fdee11a451ccd": {
      "model_module": "@jupyter-widgets/controls",
      "model_module_version": "1.5.0",
      "model_name": "ButtonStyleModel",
      "state": {}
     },
     "a7b9e41453ba44e694100aa0c0d43bb0": {
      "model_module": "@jupyter-widgets/controls",
      "model_module_version": "1.5.0",
      "model_name": "DescriptionStyleModel",
      "state": {
       "description_width": ""
      }
     },
     "a98ba53cfe25409392fa4bbf4633a100": {
      "model_module": "@jupyter-widgets/controls",
      "model_module_version": "1.5.0",
      "model_name": "HTMLModel",
      "state": {
       "layout": "IPY_MODEL_ad538a3a37c2474dade5bbda3d107c21",
       "style": "IPY_MODEL_f151db4249b84375897741acac991ba8",
       "value": "<h5>Message</h5>"
      }
     },
     "ad538a3a37c2474dade5bbda3d107c21": {
      "model_module": "@jupyter-widgets/base",
      "model_module_version": "1.2.0",
      "model_name": "LayoutModel",
      "state": {}
     },
     "af48f338802c4322bfa3c1c70a7ebf76": {
      "model_module": "@jupyter-widgets/controls",
      "model_module_version": "1.5.0",
      "model_name": "HTMLModel",
      "state": {
       "layout": "IPY_MODEL_1d3f414616dc47de968c0358d1f55b10",
       "style": "IPY_MODEL_1a4baa832f2745dcb94626dcd63b6d8e",
       "value": "<h5>Queue</h5>"
      }
     },
     "b0fbadf82db54a9cad36fe790ba747ba": {
      "model_module": "@jupyter-widgets/controls",
      "model_module_version": "1.5.0",
      "model_name": "DescriptionStyleModel",
      "state": {
       "description_width": ""
      }
     },
     "c4ac3d945da248b4983b99b18bfa5a6b": {
      "model_module": "@jupyter-widgets/controls",
      "model_module_version": "1.5.0",
      "model_name": "ButtonModel",
      "state": {
       "button_style": "primary",
       "description": "Clear",
       "layout": "IPY_MODEL_e1c04364ddbb4866b20a9b0fcea40267",
       "style": "IPY_MODEL_9045860c258b4e6d893fdee11a451ccd"
      }
     },
     "c5d675f33847480ba7ec8c6f0ac6859e": {
      "model_module": "@jupyter-widgets/base",
      "model_module_version": "1.2.0",
      "model_name": "LayoutModel",
      "state": {
       "width": "95px"
      }
     },
     "ca7dec5d27e74937af87ffa4bc9dad4b": {
      "model_module": "@jupyter-widgets/controls",
      "model_module_version": "1.5.0",
      "model_name": "HBoxModel",
      "state": {
       "children": [
        "IPY_MODEL_3605be9fb4ce430d93de537626b4ff44",
        "IPY_MODEL_f70508a7486b4da78ee01139dba7c793",
        "IPY_MODEL_2edb76f59c1d420bad3c2b269a91e531",
        "IPY_MODEL_af48f338802c4322bfa3c1c70a7ebf76",
        "IPY_MODEL_a98ba53cfe25409392fa4bbf4633a100"
       ],
       "layout": "IPY_MODEL_d1743fb23f8f402c87834f22ae0614f1"
      }
     },
     "d1743fb23f8f402c87834f22ae0614f1": {
      "model_module": "@jupyter-widgets/base",
      "model_module_version": "1.2.0",
      "model_name": "LayoutModel",
      "state": {
       "margin": "0px 0px 0px 37px",
       "width": "600px"
      }
     },
     "e1c04364ddbb4866b20a9b0fcea40267": {
      "model_module": "@jupyter-widgets/base",
      "model_module_version": "1.2.0",
      "model_name": "LayoutModel",
      "state": {
       "grid_area": "right",
       "padding": "0px 0px 0px 0px",
       "width": "70px"
      }
     },
     "f151db4249b84375897741acac991ba8": {
      "model_module": "@jupyter-widgets/controls",
      "model_module_version": "1.5.0",
      "model_name": "DescriptionStyleModel",
      "state": {
       "description_width": ""
      }
     },
     "f70508a7486b4da78ee01139dba7c793": {
      "model_module": "@jupyter-widgets/controls",
      "model_module_version": "1.5.0",
      "model_name": "HTMLModel",
      "state": {
       "layout": "IPY_MODEL_791d7ea6c8994dac92f8168393386ddd",
       "style": "IPY_MODEL_b0fbadf82db54a9cad36fe790ba747ba",
       "value": "<h5>Backend</h5>"
      }
     }
    },
    "version_major": 2,
    "version_minor": 0
   }
  }
 },
 "nbformat": 4,
 "nbformat_minor": 5
}
